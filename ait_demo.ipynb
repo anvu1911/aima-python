{
 "cells": [
  {
   "cell_type": "code",
   "execution_count": 5,
   "metadata": {},
   "outputs": [],
   "source": [
    "# import libraries\n",
    "from utils4e import *\n",
    "from logic4e import *\n"
   ]
  },
  {
   "attachments": {},
   "cell_type": "markdown",
   "metadata": {},
   "source": [
    "# System 1"
   ]
  },
  {
   "attachments": {},
   "cell_type": "markdown",
   "metadata": {},
   "source": [
    "## Knowledge\n",
    "\"Everyone who rides while drunk is fined 1000 for drunk driving\"<br>\n",
    "\"Everyone who rides faster than 80 is fined 500 for speeding\"<br>"
   ]
  },
  {
   "attachments": {},
   "cell_type": "markdown",
   "metadata": {},
   "source": [
    "### Translate to FOL\n",
    "\"Person x rides bike y\" - RideBike(x, y)<br>\n",
    "\"Bike y has speed more than 80\" - SpeedMoreThan(y, 80)<br>\n",
    "\"Person x is fined 500 for speeding - FinedSpeeding(x, 500)<br>\n",
    "\"Person x is fined 1000 for drunk driving - FinedDrunk(x, 1000)<br>\n",
    "\"Person x is drunk\" - Drunk(x)"
   ]
  },
  {
   "attachments": {},
   "cell_type": "markdown",
   "metadata": {},
   "source": [
    "### Build Knowledge Base"
   ]
  },
  {
   "cell_type": "code",
   "execution_count": 6,
   "metadata": {},
   "outputs": [],
   "source": [
    "clauses = list()\n",
    "clauses.append(expr(\"(RideBike(x, y) & SpeedMoreThan(y, 80)) ==> FinedSpeeding(x, 500)\"))\n",
    "clauses.append(expr(\"(Drunk(x) & RideBike(x, y)) ==> FinedDrunk(x, 1000)\"))\n",
    "KB = FolKB(clauses)\n"
   ]
  },
  {
   "attachments": {},
   "cell_type": "markdown",
   "metadata": {},
   "source": [
    "## Facts\n",
    "\"Tom is drunk and rides\"<br>\n",
    "\"Jerry rides faster than 80\"<br>"
   ]
  },
  {
   "attachments": {},
   "cell_type": "markdown",
   "metadata": {},
   "source": [
    "### Add facts\n"
   ]
  },
  {
   "cell_type": "code",
   "execution_count": 7,
   "metadata": {},
   "outputs": [],
   "source": [
    "KB.tell(expr(\"RideBike(Jerry, JerryBike)\"))\n",
    "KB.tell(expr(\"RideBike(Tom, TomBike)\"))\n",
    "KB.tell(expr(\"Drunk(Tom)\"))\n",
    "KB.tell(expr(\"SpeedMoreThan(JerryBike, 80)\"))\n"
   ]
  },
  {
   "attachments": {},
   "cell_type": "markdown",
   "metadata": {},
   "source": [
    "## Queries\n",
    "Q1 - \"Who is drunk?\"<br>\n",
    "Q2 - \"How much is Tom fined?\"<br>\n",
    "Q3 - \"Who is fined 1000?\"<br>\n",
    "Q4 - \"How much is Jerry fined?\"<br>\n",
    "Q5 - \"Who is fined 500?\"<br>"
   ]
  },
  {
   "attachments": {},
   "cell_type": "markdown",
   "metadata": {},
   "source": [
    "### Queries - Backward chaining"
   ]
  },
  {
   "cell_type": "code",
   "execution_count": 8,
   "metadata": {},
   "outputs": [
    {
     "name": "stdout",
     "output_type": "stream",
     "text": [
      "Who is drunk?                            Tom\n",
      "How much is Tom fined?                   1000\n",
      "Who is fined for drunk driving?          Tom\n",
      "How much is Jerry fined?                 500\n",
      "Who is fined for speeding?               Jerry\n"
     ]
    }
   ],
   "source": [
    "q1 = KB.ask(expr(\"Drunk(x)\"))[x]\n",
    "q2 = KB.ask(expr(\"FinedDrunk(Tom, x)\"))[x]\n",
    "q3 = KB.ask(expr(\"FinedDrunk(x, 1000)\"))[x]\n",
    "q4 = KB.ask(expr(\"FinedSpeeding(Jerry, x)\"))[x]\n",
    "q5 = KB.ask(expr(\"FinedSpeeding(x, 500)\"))[x]\n",
    "\n",
    "print(f'{\"Who is drunk?\":<40} {str(q1)}')\n",
    "print(f'{\"How much is Tom fined?\":<40} {str(q2)}')\n",
    "print(f'{\"Who is fined for drunk driving?\":<40} {str(q3)}')\n",
    "print(f'{\"How much is Jerry fined?\":<40} {str(q4)}')\n",
    "print(f'{\"Who is fined for speeding?\":<40} {str(q5)}')\n"
   ]
  },
  {
   "attachments": {},
   "cell_type": "markdown",
   "metadata": {},
   "source": [
    "### Queries - Forward chaining"
   ]
  },
  {
   "cell_type": "code",
   "execution_count": 9,
   "metadata": {},
   "outputs": [
    {
     "name": "stdout",
     "output_type": "stream",
     "text": [
      "Who is drunk?                            [{x: Tom}]\n",
      "How much is Tom fined?                   [{a: 1000}]\n",
      "Who is fined for drunk driving?          [{x: Tom}]\n",
      "How much is Jerry fined?                 [{x: Jerry}]\n",
      "Who is fined for speeding?               [{a: Jerry}]\n"
     ]
    }
   ],
   "source": [
    "clauses = list()\n",
    "clauses.append(expr(\"(RideBike(x, y) & SpeedMoreThan(y, 80)) ==> FinedSpeeding(x, 500)\"))\n",
    "clauses.append(expr(\"(Drunk(x) & RideBike(x, y)) ==> FinedDrunk(x, 1000)\"))\n",
    "KB = FolKB(clauses)\n",
    "\n",
    "KB.tell(expr(\"RideBike(Jerry, JerryBike)\"))\n",
    "KB.tell(expr(\"RideBike(Tom, TomBike)\"))\n",
    "KB.tell(expr(\"Drunk(Tom)\"))\n",
    "KB.tell(expr(\"SpeedMoreThan(JerryBike, 80)\"))\n",
    "\n",
    "q1 = fol_fc_ask(KB, expr(\"Drunk(x)\"))\n",
    "q2 = fol_fc_ask(KB, expr(\"FinedDrunk(Tom, a)\"))\n",
    "q3 = fol_fc_ask(KB, expr(\"FinedDrunk(x, 1000)\"))\n",
    "q4 = fol_fc_ask(KB, expr(\"RideBike(x, JerryBike)\"))\n",
    "q5 = fol_fc_ask(KB, expr(\"FinedSpeeding(a, 500)\"))\n",
    "\n",
    "print(f'{\"Who is drunk?\":<40} {str(list(q1))}')\n",
    "print(f'{\"How much is Tom fined?\":<40} {str(list(q2))}')\n",
    "print(f'{\"Who is fined for drunk driving?\":<40} {str(list(q3))}')\n",
    "print(f'{\"How much is Jerry fined?\":<40} {str(list(q4))}')\n",
    "print(f'{\"Who is fined for speeding?\":<40} {str(list(q5))}')\n"
   ]
  },
  {
   "attachments": {},
   "cell_type": "markdown",
   "metadata": {},
   "source": [
    "# System 2"
   ]
  },
  {
   "attachments": {},
   "cell_type": "markdown",
   "metadata": {},
   "source": [
    "## Knowledge\n",
    "Diseases and their symptoms<br>\n",
    "&ensp;&ensp;Influenza - Fever, Cough, Headache<br>\n",
    "&ensp;&ensp;Migraine - Headache, Nausea, Dizziness<br>\n",
    "&ensp;&ensp;Common Cold - Cough, Fatigue<br>\n"
   ]
  },
  {
   "attachments": {},
   "cell_type": "markdown",
   "metadata": {},
   "source": [
    "### Translate to FOL\n",
    "\"A disease x  is related to a symptom y\" - Related(x, y)\n",
    "\n",
    "\"Person x is show symptom y\" - ShowSymptom(x, y)\n",
    "\n",
    "\"Diagnose person x with symptoms y\" - Diagonse(x, y)"
   ]
  },
  {
   "cell_type": "code",
   "execution_count": 10,
   "metadata": {},
   "outputs": [],
   "source": [
    "clauses = list()\n",
    "\n",
    "clauses.append(expr(\"Related(Migraine, Nausea)\"))\n",
    "clauses.append(expr(\"Related(Migraine, Headache)\"))\n",
    "clauses.append(expr(\"Related(Migraine, Dizziness)\"))\n",
    "\n",
    "clauses.append(expr(\"Related(CommonCold, Cough)\"))\n",
    "clauses.append(expr(\"Related(CommonCold, Fatigue)\"))\n",
    "\n",
    "clauses.append(expr(\"Related(Influenza, Fever)\"))\n",
    "clauses.append(expr(\"Related(Influenza, Cough)\"))\n",
    "clauses.append(expr(\"Related(Influenza, Headache)\"))\n",
    "\n",
    "clauses.append(expr(\"(ShowSymptom(x, Fever) & ShowSymptom(x, Cough) & ShowSymptom(x, Headache)) ==> Diagnose(x, Influenza)\"))\n",
    "clauses.append(expr(\"(ShowSymptom(x, Headache) & ShowSymptom(x, Nausea) & ShowSymptom(x, Dizziness)) ==> Diagnose(x, Migraine)\"))\n",
    "\n",
    "KB = FolKB(clauses)"
   ]
  },
  {
   "attachments": {},
   "cell_type": "markdown",
   "metadata": {},
   "source": [
    "## Facts\n",
    "\"Symptoms of John - Headache, Cough, Fever\"<br>\n",
    "\"Symptoms of Mary - Headache, Nausea, Dizziness\"<br>"
   ]
  },
  {
   "cell_type": "code",
   "execution_count": 11,
   "metadata": {},
   "outputs": [],
   "source": [
    "KB.tell(expr(\"ShowSymptom(John, Fever)\"))\n",
    "KB.tell(expr(\"ShowSymptom(John, Cough)\"))\n",
    "KB.tell(expr(\"ShowSymptom(John, Headache)\"))\n",
    "\n",
    "KB.tell(expr(\"ShowSymptom(Mary, Headache)\"))\n",
    "KB.tell(expr(\"ShowSymptom(Mary, Nausea)\"))\n",
    "KB.tell(expr(\"ShowSymptom(Mary, Dizziness)\"))\n",
    "\n",
    "KB.tell(expr(\"ShowSymptom(Tom, Cough)\"))"
   ]
  },
  {
   "attachments": {},
   "cell_type": "markdown",
   "metadata": {},
   "source": [
    "## Queries\n",
    "Q1 - What is the likely diagnosis of John?<br>\n",
    "Q2 - What symptoms are associated with the disease \"Migraine\"?<br>\n",
    "Q3 - What disease include the symptom \"Cough\"?<br>\n",
    "Q4 - What is the likely diagnosis of Mary?<br>\n",
    "Q4 - What is the likely diagnosis of Tom?<br>"
   ]
  },
  {
   "cell_type": "code",
   "execution_count": 12,
   "metadata": {},
   "outputs": [
    {
     "name": "stdout",
     "output_type": "stream",
     "text": [
      "What is the likely diagnosis of John?    {v_96: John, x: Influenza}\n",
      "What symptoms are related with Migraine? {x: Nausea}\n",
      "What disease include the symptom Cough?  {x: CommonCold}\n",
      "What is the likely diagnosis of Mary?    {v_106: Mary, x: Migraine}\n",
      "What is the likely diagnosis of Tom?     False\n"
     ]
    }
   ],
   "source": [
    "q1 = KB.ask(expr(\"Diagnose(John, x)\"))\n",
    "q2 = KB.ask(expr(\"Related(Migraine, x)\"))\n",
    "q3 = KB.ask(expr(\"Related(x, Cough)\"))\n",
    "q4 = KB.ask(expr(\"Diagnose(Mary, x)\"))\n",
    "q5 = KB.ask(expr(\"Diagnose(Tom, x)\"))\n",
    "\n",
    "print(f'{\"What is the likely diagnosis of John?\":<40} {str(q1)}')\n",
    "print(f'{\"What symptoms are related with Migraine?\":<40} {str(q2)}')\n",
    "print(f'{\"What disease include the symptom Cough?\":<40} {str(q3)}')\n",
    "print(f'{\"What is the likely diagnosis of Mary?\":<40} {str(q4)}')\n",
    "print(f'{\"What is the likely diagnosis of Tom?\":<40} {str(q5)}')"
   ]
  },
  {
   "cell_type": "code",
   "execution_count": 9,
   "metadata": {},
   "outputs": [],
   "source": [
    "# clauses = []\n",
    "\n",
    "# # add FOL clauses\n",
    "# clauses.append(expr(\n",
    "#     \"(American(x) & Weapon(y) & Sells(x, y, z) & Hostile(z)) ==> Criminal(x)\"))\n",
    "# clauses.append(expr(\"Enemy(Nono, America)\"))\n",
    "# clauses.append(expr(\"Owns(Nono, M1)\"))\n",
    "# clauses.append(expr(\"Missile(M1)\"))\n",
    "# clauses.append(expr(\"(Missile(x) & Owns(Nono, x)) ==> Sells(West, x, Nono)\"))\n",
    "# clauses.append(expr(\"American(West)\"))\n",
    "# clauses.append(expr(\"Missile(x) ==> Weapon(x)\"))\n",
    "\n",
    "# # creaing FOL knowledge base with clauses\n",
    "# KB = FolKB(clauses)\n",
    "\n",
    "# # add facts with knowledge base tell\n",
    "# KB.tell(expr('Enemy(Coco, America)'))\n",
    "# KB.tell(expr('Enemy(Jojo, America)'))\n",
    "# KB.tell(expr(\"Enemy(x, America) ==> Hostile(x)\"))\n",
    "\n",
    "# # Get information from the knowledge base with ask\n",
    "# hostile = KB.ask(expr('Hostile(x)'))\n",
    "# criminal = KB.ask(expr('Criminal(x)'))\n",
    "\n",
    "# # Forward chaining\n",
    "# hostile = fol_fc_ask(KB, expr('Hostile(x)'))\n",
    "# criminal = fol_fc_ask(KB, expr('Criminal(x)'))\n",
    "# # Print answers\n",
    "# print(f'Hostile {list(hostile)}')\n",
    "# print(f'Criminal {list(criminal)}')"
   ]
  }
 ],
 "metadata": {
  "kernelspec": {
   "display_name": "aima",
   "language": "python",
   "name": "python3"
  },
  "language_info": {
   "codemirror_mode": {
    "name": "ipython",
    "version": 3
   },
   "file_extension": ".py",
   "mimetype": "text/x-python",
   "name": "python",
   "nbconvert_exporter": "python",
   "pygments_lexer": "ipython3",
   "version": "3.11.4"
  },
  "orig_nbformat": 4
 },
 "nbformat": 4,
 "nbformat_minor": 2
}
